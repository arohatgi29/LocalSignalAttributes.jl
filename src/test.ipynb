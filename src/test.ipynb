{
 "cells": [
  {
   "cell_type": "code",
   "execution_count": 4,
   "metadata": {},
   "outputs": [
    {
     "data": {
      "text/plain": [
       "7-element Vector{Float64}:\n",
       " -0.003977750622246395\n",
       "  0.01791785195573209\n",
       " -0.11027749899418056\n",
       "  0.19267479532138973\n",
       " -0.11027749899418057\n",
       "  0.017917851955732096\n",
       " -0.003977750622246393"
      ]
     },
     "metadata": {},
     "output_type": "display_data"
    }
   ],
   "source": [
    "using FFTW\n",
    "\n",
    "function ricker(input::Array; dt=1.0, f=0.2)  \n",
    "    # Fourier transform\n",
    "    fourier = rfft(input)\n",
    "    nt = length(input)\n",
    "    freq = rfftfreq(nt, 1/dt)\n",
    "\n",
    "    # Ricker wavelet\n",
    "    freq = freq/f\n",
    "    freq = freq .* freq\n",
    "    @. fourier *= freq * exp(1 - freq)\n",
    "    return irfft(fourier, nt)\n",
    "end\n",
    "\n",
    "   input = [0, 0, 0, 1, 0, 0, 0]  \n",
    "    dt = 0.1                        \n",
    "    f = 10.0                       \n",
    "\n",
    "   \n",
    "ricker(input; dt, f) \n"
   ]
  },
  {
   "cell_type": "code",
   "execution_count": 2,
   "metadata": {},
   "outputs": [],
   "source": []
  }
 ],
 "metadata": {
  "kernelspec": {
   "display_name": "Julia 1.10.5",
   "language": "julia",
   "name": "julia-1.10"
  },
  "language_info": {
   "file_extension": ".jl",
   "mimetype": "application/julia",
   "name": "julia",
   "version": "1.10.5"
  }
 },
 "nbformat": 4,
 "nbformat_minor": 2
}
