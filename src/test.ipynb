{
 "cells": [
  {
   "cell_type": "code",
   "execution_count": 9,
   "metadata": {},
   "outputs": [
    {
     "data": {
      "text/plain": [
       "conjgrad (generic function with 1 method)"
      ]
     },
     "metadata": {},
     "output_type": "display_data"
    }
   ],
   "source": [
    "using LinearAlgebra\n",
    "\n",
    "function conjgrad(forward::Function, adjoint::Function, shaping::Function, d::Array, p0::Array; ϵ=1.0, niter=1, tolerance= 1.0e-7)\n",
    "\"Conjugate-gradient algorithm for shaping regularization\"\n",
    "p = deepcopy(p0)\n",
    "x = shaping(p)\n",
    "r = forward(x) .- d      \n",
    "sp, sx, sr = similar(p), similar(x), similar(r)\n",
    "gnp, g0 = zero(Float64), zero(Float64)\n",
    "for iter in 1:niter\n",
    "gx = adjoint(r) - ϵ*x\n",
    "gp = shaping(gx) + ϵ*p\n",
    "gx = shaping(gp)\n",
    "gr = forward(gx)\n",
    "\n",
    "gn = gp ⋅ gp\n",
    "@show iter, gn\n",
    "\n",
    "if iter==1\n",
    "g0 = gn\n",
    "\n",
    "sp = gp\n",
    "sx = gx\n",
    "sr = gr\n",
    "else\n",
    "γ = gn/g0\n",
    "β = gn/gnp\n",
    "\n",
    "if γ < tolerance || β < tolerance\n",
    "  # converged\n",
    "  @show γ, β\n",
    "  break\n",
    "end\n",
    "\n",
    "sp = gp + β*sp\n",
    "sx = gx + β*sx\n",
    "sr = gr + β*sr\n",
    "end\n",
    "gnp = gn\n",
    "\n",
    "α = sr ⋅ sr + ϵ*(sp ⋅ sp -  sx ⋅ sx)\n",
    "α = - gn/α\n",
    "\n",
    "p = p + α*sp\n",
    "x = x + α*sx\n",
    "r = r + α*sr\n",
    "end\n",
    "return x\n",
    "end"
   ]
  },
  {
   "cell_type": "code",
   "execution_count": 2,
   "metadata": {},
   "outputs": [],
   "source": []
  },
  {
   "cell_type": "code",
   "execution_count": 3,
   "metadata": {},
   "outputs": [
    {
     "data": {
      "text/plain": [
       "smooth (generic function with 2 methods)"
      ]
     },
     "metadata": {},
     "output_type": "display_data"
    }
   ],
   "source": [
    "function doubint!(x::Vector{T}, der=false) where T <: Real\n",
    "    \"causal and anticausal integration in place\"\n",
    "    n = length(x)  \n",
    "    ranges = der ? (1:n, ) : (1:n, n:-1:1)\n",
    "    for range in ranges\n",
    "        t = zero(T)\n",
    "        for i in range\n",
    "            t += x[i]\n",
    "            x[i] = t\n",
    "        end\n",
    "    end\n",
    "end\n",
    "\n",
    "function fold(t::Vector{T}, nb::Integer) where T <: Real \n",
    "    \"reflecting boundary conditions for smoothing\"\n",
    "    nt = length(t)\n",
    "    n = nt - 2*nb\n",
    "    # copy middle\n",
    "    x = t[1+nb:n+nb]\n",
    "    # reflections from the right side \n",
    "    for j in nb+n:2*n:nt\n",
    "        for i in 1:min(n,nt-j); x[n+1-i] += t[j+i]; end\n",
    "        for i in 1:min(n,nt-j-n); x[i] += t[j+n+i]; end\n",
    "    end\n",
    "    # reflections from the left side\n",
    "    for j in nb+1:-2*n:1\n",
    "        for i in 1:min(n,j-1); x[i] += t[j-i]; end\n",
    "        for i in 1:min(n,j-1-n); x[n+1-i] += t[j-i-n]; end\n",
    "    end\n",
    "    return x\n",
    "end\n",
    "\n",
    "function smooth(x::Vector{T}, nb::Int, der=false) where T <: Real\n",
    "    \"smoothing by triangle filtering with reflecting boundaries\"\n",
    "    n = length(x)\n",
    "    t = zeros(T,n+2*nb)\n",
    "    for i in 1:n\n",
    "        xi = x[i]/(nb*nb)\n",
    "        t[i] -= xi\n",
    "        t[i+nb] += 2*xi\n",
    "        t[i+2*nb] -= xi\n",
    "    end\n",
    "    doubint!(t, der)\n",
    "    return fold(t, nb)\n",
    "end"
   ]
  },
  {
   "cell_type": "code",
   "execution_count": 4,
   "metadata": {},
   "outputs": [
    {
     "data": {
      "text/plain": [
       "smooth (generic function with 2 methods)"
      ]
     },
     "metadata": {},
     "output_type": "display_data"
    }
   ],
   "source": [
    "function smooth(x::Vector{T}, nb::Int, der=false) where T <: Real\n",
    "    \"smoothing by triangle filtering with reflecting boundaries\"\n",
    "    n = length(x)\n",
    "    t = zeros(T,n+2*nb)\n",
    "    for i in 1:n\n",
    "        xi = x[i]/(nb*nb)\n",
    "        t[i] -= xi\n",
    "        t[i+nb] += 2*xi\n",
    "        t[i+2*nb] -= xi\n",
    "    end\n",
    "    doubint!(t, der)\n",
    "    return fold(t, nb)\n",
    "end"
   ]
  },
  {
   "cell_type": "code",
   "execution_count": 5,
   "metadata": {},
   "outputs": [
    {
     "data": {
      "text/plain": [
       "smooth (generic function with 4 methods)"
      ]
     },
     "metadata": {},
     "output_type": "display_data"
    }
   ],
   "source": [
    "function smooth(x::Array, nb::Vector{Int}, der=false) \n",
    "    \"multidimensional smoothing\"\n",
    "    y = deepcopy(x)\n",
    "    # loop over dimensions\n",
    "    for dim in 1:length(nb)\n",
    "        y = mapslices(slice -> smooth(slice, nb[dim], der), y; dims=dim)\n",
    "    end\n",
    "    return y\n",
    "end"
   ]
  },
  {
   "cell_type": "code",
   "execution_count": 12,
   "metadata": {},
   "outputs": [
    {
     "data": {
      "text/plain": [
       "smooth_division (generic function with 1 method)"
      ]
     },
     "metadata": {},
     "output_type": "display_data"
    }
   ],
   "source": [
    "const DEFAULT_ϵ = 1.0\n",
    "const DEFAULT_TOLERANCE = 1.0e-7\n",
    "const DEFAULT_NITER = 100\n",
    "\n",
    "function smooth_division(numerator::Array, denominator::Array, radius::Vector{Int}; \n",
    "                        niter=DEFAULT_NITER, ϵ=DEFAULT_ϵ, tolerance=DEFAULT_TOLERANCE)\n",
    "    n = length(numerator)\n",
    "    p0 = similar(numerator)\n",
    "    fill!(p0, zero(eltype(p0)))\n",
    "    # normalization\n",
    "    norm = denominator ⋅ denominator\n",
    "    if norm == 0.0\n",
    "        return zeros(n, eltype(numerator))\n",
    "    end\n",
    "    norm = sqrt(n / norm)\n",
    "    @show norm\n",
    "    # weighting function\n",
    "    weight = x -> x .* denominator .* norm\n",
    "    return conjgrad(weight, weight, x -> smooth(x, radius), numerator * norm, p0; \n",
    "                    ϵ=ϵ, niter=niter, tolerance=tolerance)\n",
    "end"
   ]
  },
  {
   "cell_type": "code",
   "execution_count": 13,
   "metadata": {},
   "outputs": [
    {
     "name": "stdout",
     "output_type": "stream",
     "text": [
      "norm = 3.651483716701107\n",
      "(iter, gn) = (1, 412.0291555555554)\n",
      "(iter, gn) = (2, 9.915087774665228)\n",
      "(iter, gn) = (3, 0.00032678726342515705)\n",
      "(iter, gn) = (4, 5.309053069195088e-12)\n",
      "(γ, β) = (1.2885139310194395e-14, 1.624620560039361e-8)\n"
     ]
    },
    {
     "data": {
      "text/plain": [
       "4-element Vector{Float64}:\n",
       "  9.99999999483288\n",
       " 10.00000001181633\n",
       "  9.999999990811466\n",
       " 10.000000002537154"
      ]
     },
     "metadata": {},
     "output_type": "display_data"
    }
   ],
   "source": [
    "# [TEST CASE 4]: Test for Smooth Division function\n",
    "numerator = [1.0, 2.0, 3.0, 4.0]\n",
    "denominator = [0.1, 0.2, 0.3, 0.4]\n",
    "radius = [5]\n",
    "output_smooth_division = smooth_division(numerator, denominator, radius)"
   ]
  },
  {
   "cell_type": "code",
   "execution_count": 8,
   "metadata": {},
   "outputs": [],
   "source": []
  }
 ],
 "metadata": {
  "kernelspec": {
   "display_name": "Julia 1.10.5",
   "language": "julia",
   "name": "julia-1.10"
  },
  "language_info": {
   "file_extension": ".jl",
   "mimetype": "application/julia",
   "name": "julia",
   "version": "1.10.5"
  }
 },
 "nbformat": 4,
 "nbformat_minor": 2
}
